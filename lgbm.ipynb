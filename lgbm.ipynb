{
 "cells": [
  {
   "cell_type": "code",
   "execution_count": 1,
   "metadata": {},
   "outputs": [],
   "source": [
    "import pandas as pd\n",
    "train=pd.read_csv('train.csv',index_col=0)\n",
    "test=pd.read_csv('test.csv',index_col=0)"
   ]
  },
  {
   "cell_type": "code",
   "execution_count": 2,
   "metadata": {},
   "outputs": [],
   "source": [
    "# 处理Attrition字段\n",
    "train['Attrition']=train['Attrition'].map(lambda x:1 if x=='Yes' else 0)\n",
    "from sklearn.preprocessing import LabelEncoder\n",
    "\n",
    "# 去掉没用的列 员工号码，标准工时（=80）\n",
    "train = train.drop(['EmployeeNumber', 'StandardHours'], axis=1)\n",
    "test = test.drop(['EmployeeNumber', 'StandardHours'], axis=1)\n",
    "\n",
    "# 对于分类特征进行特征值编码\n",
    "attr=['Age','BusinessTravel','Department','Education','EducationField','Gender','JobRole','MaritalStatus','Over18','OverTime']\n",
    "lbe_list=[]\n",
    "for feature in attr:\n",
    "    lbe=LabelEncoder()\n",
    "    train[feature]=lbe.fit_transform(train[feature])\n",
    "    test[feature]=lbe.transform(test[feature])\n",
    "    lbe_list.append(lbe)"
   ]
  },
  {
   "cell_type": "code",
   "execution_count": 3,
   "metadata": {},
   "outputs": [],
   "source": [
    "import lightgbm as lgb\n",
    "from sklearn.model_selection import train_test_split"
   ]
  },
  {
   "cell_type": "code",
   "execution_count": 4,
   "metadata": {},
   "outputs": [],
   "source": [
    "param = {'boosting_type':'gbdt',\n",
    "                         'objective' : 'binary', \n",
    "                         'metric' : 'auc',\n",
    "                         'learning_rate' : 0.01,\n",
    "                         'max_depth' : 15,\n",
    "                         'feature_fraction':0.8,\n",
    "                         'bagging_fraction': 0.9,\n",
    "                         'bagging_freq': 8,\n",
    "                         'lambda_l1': 0.6,\n",
    "                         'lambda_l2': 0,\n",
    "        }"
   ]
  },
  {
   "cell_type": "code",
   "execution_count": 5,
   "metadata": {},
   "outputs": [],
   "source": [
    "X_train, X_valid, y_train, y_valid = train_test_split(train.drop('Attrition',axis=1), train['Attrition'], test_size=0.2, random_state=42)\n",
    "train_data = lgb.Dataset(X_train, label=y_train)\n",
    "valid_data = lgb.Dataset(X_valid, label=y_valid)"
   ]
  },
  {
   "cell_type": "code",
   "execution_count": 6,
   "metadata": {},
   "outputs": [
    {
     "name": "stderr",
     "output_type": "stream",
     "text": [
      "C:\\Users\\xueliang.chen\\AppData\\Local\\Continuum\\anaconda3\\lib\\site-packages\\lightgbm\\basic.py:1295: UserWarning: categorical_feature in Dataset is overridden.\n",
      "New categorical_feature is ['Age', 'BusinessTravel', 'Department', 'Education', 'EducationField', 'Gender', 'JobRole', 'MaritalStatus', 'Over18', 'OverTime']\n",
      "  'New categorical_feature is {}'.format(sorted(list(categorical_feature))))\n"
     ]
    },
    {
     "name": "stdout",
     "output_type": "stream",
     "text": [
      "Training until validation scores don't improve for 200 rounds\n",
      "[25]\ttraining's auc: 0.922112\tvalid_1's auc: 0.757558\n",
      "[50]\ttraining's auc: 0.944135\tvalid_1's auc: 0.770381\n",
      "[75]\ttraining's auc: 0.957212\tvalid_1's auc: 0.788825\n",
      "[100]\ttraining's auc: 0.966265\tvalid_1's auc: 0.792317\n",
      "[125]\ttraining's auc: 0.976136\tvalid_1's auc: 0.797774\n",
      "[150]\ttraining's auc: 0.981821\tvalid_1's auc: 0.800939\n",
      "[175]\ttraining's auc: 0.986519\tvalid_1's auc: 0.806177\n",
      "[200]\ttraining's auc: 0.989761\tvalid_1's auc: 0.808141\n",
      "[225]\ttraining's auc: 0.992635\tvalid_1's auc: 0.812398\n",
      "[250]\ttraining's auc: 0.994369\tvalid_1's auc: 0.815781\n",
      "[275]\ttraining's auc: 0.996165\tvalid_1's auc: 0.820801\n",
      "[300]\ttraining's auc: 0.997153\tvalid_1's auc: 0.821019\n",
      "[325]\ttraining's auc: 0.997791\tvalid_1's auc: 0.819382\n",
      "[350]\ttraining's auc: 0.998563\tvalid_1's auc: 0.820801\n",
      "[375]\ttraining's auc: 0.999021\tvalid_1's auc: 0.82091\n",
      "[400]\ttraining's auc: 0.999317\tvalid_1's auc: 0.823748\n",
      "[425]\ttraining's auc: 0.999524\tvalid_1's auc: 0.827349\n",
      "[450]\ttraining's auc: 0.999731\tvalid_1's auc: 0.828768\n",
      "[475]\ttraining's auc: 0.999847\tvalid_1's auc: 0.826367\n",
      "[500]\ttraining's auc: 0.99991\tvalid_1's auc: 0.826803\n",
      "[525]\ttraining's auc: 0.999928\tvalid_1's auc: 0.827567\n",
      "[550]\ttraining's auc: 0.999964\tvalid_1's auc: 0.827131\n",
      "[575]\ttraining's auc: 0.999973\tvalid_1's auc: 0.827458\n",
      "[600]\ttraining's auc: 0.999982\tvalid_1's auc: 0.827458\n",
      "[625]\ttraining's auc: 1\tvalid_1's auc: 0.827677\n",
      "[650]\ttraining's auc: 1\tvalid_1's auc: 0.829204\n",
      "[675]\ttraining's auc: 1\tvalid_1's auc: 0.829423\n",
      "[700]\ttraining's auc: 1\tvalid_1's auc: 0.829968\n",
      "[725]\ttraining's auc: 1\tvalid_1's auc: 0.82844\n",
      "[750]\ttraining's auc: 1\tvalid_1's auc: 0.828004\n",
      "[775]\ttraining's auc: 1\tvalid_1's auc: 0.826585\n",
      "[800]\ttraining's auc: 1\tvalid_1's auc: 0.827022\n",
      "[825]\ttraining's auc: 1\tvalid_1's auc: 0.826803\n",
      "[850]\ttraining's auc: 1\tvalid_1's auc: 0.826149\n",
      "[875]\ttraining's auc: 1\tvalid_1's auc: 0.826585\n",
      "Early stopping, best iteration is:\n",
      "[698]\ttraining's auc: 1\tvalid_1's auc: 0.830187\n"
     ]
    }
   ],
   "source": [
    "model = lgb.train(param,train_data,valid_sets=[train_data,valid_data],num_boost_round = 10000 ,early_stopping_rounds=200,verbose_eval=25, categorical_feature=attr)\n",
    "predict=model.predict(test)\n",
    "test['Attrition']=predict"
   ]
  },
  {
   "cell_type": "code",
   "execution_count": 7,
   "metadata": {},
   "outputs": [
    {
     "data": {
      "text/plain": [
       "user_id\n",
       "442     0.031402\n",
       "1091    0.013365\n",
       "981     0.130556\n",
       "785     0.026596\n",
       "1332    0.880303\n",
       "          ...   \n",
       "1439    0.013608\n",
       "481     0.024272\n",
       "124     0.349841\n",
       "198     0.007679\n",
       "1229    0.036693\n",
       "Name: Attrition, Length: 294, dtype: float64"
      ]
     },
     "execution_count": 7,
     "metadata": {},
     "output_type": "execute_result"
    }
   ],
   "source": [
    "test['Attrition']"
   ]
  },
  {
   "cell_type": "code",
   "execution_count": 8,
   "metadata": {},
   "outputs": [],
   "source": [
    "test[['Attrition']].to_csv('submit_lgb.csv')"
   ]
  }
 ],
 "metadata": {
  "kernelspec": {
   "display_name": "Python 3",
   "language": "python",
   "name": "python3"
  },
  "language_info": {
   "codemirror_mode": {
    "name": "ipython",
    "version": 3
   },
   "file_extension": ".py",
   "mimetype": "text/x-python",
   "name": "python",
   "nbconvert_exporter": "python",
   "pygments_lexer": "ipython3",
   "version": "3.7.4"
  }
 },
 "nbformat": 4,
 "nbformat_minor": 4
}
