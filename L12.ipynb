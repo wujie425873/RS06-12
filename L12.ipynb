{
 "cells": [
  {
   "cell_type": "markdown",
   "metadata": {},
   "source": [
    "### Thinking1 举一个你之前做过的预测例子（用的什么模型，解决什么问题，比如我用LR模型，对员工离职进行了预测，效果如何... 请分享到课程微信群中）\n"
   ]
  },
  {
   "cell_type": "markdown",
   "metadata": {},
   "source": [
    "##### 去年Kaggle比赛，《Elo Merchant Category Recommendation》,对顾客忠诚度预测。使用将LightGBM，catBoost等模型Stacking起来，最后再用LightGBM预测。\n",
    "\n",
    "结果还可以，但是预测结果是几个模型的折中。不如单个CatBoost模型预测效果好。"
   ]
  },
  {
   "cell_type": "markdown",
   "metadata": {},
   "source": [
    "### Thinking2 请你思考，在你的工作中，需要构建哪些特征（比如用户画像，item特征...），这些特征都包括哪些维度（鼓励分享到微信群中，进行交流）\n",
    "\n"
   ]
  },
  {
   "cell_type": "markdown",
   "metadata": {},
   "source": [
    "##### 没工作，这方面经验较少。\n",
    "\n",
    "在原有特征基础上，接触到的特征组合有：年龄-性别，时间-行为，还有一些聚合统计之类等等。"
   ]
  },
  {
   "cell_type": "markdown",
   "metadata": {},
   "source": [
    "### Thinking3 你认为，NGBoost对之后的算法会有怎样的影响\n"
   ]
  },
  {
   "cell_type": "markdown",
   "metadata": {},
   "source": [
    "##### NGBoost完全是一个全新的概念。之前基于梯度提升的算法都是ordinary gradient。这种梯度都向着梯度下降最快的方向，有点贪心的思想。但是这样有可能掉到一个小坑里出不来。影响效果。\n",
    "\n",
    "NGBoost是基于natural gradient的。我觉得效果可能会比其他好。\n",
    "\n",
    "我认为，未来算法发展可能基于NGBoost算法进行改进（也就是说使用natural gradient的思想）。"
   ]
  },
  {
   "cell_type": "markdown",
   "metadata": {},
   "source": [
    "### Project A\n"
   ]
  },
  {
   "cell_type": "markdown",
   "metadata": {},
   "source": [
    "##### Attrition_lgbm.ipynb"
   ]
  },
  {
   "cell_type": "markdown",
   "metadata": {},
   "source": [
    "##### Attrition_lr.ipynb"
   ]
  },
  {
   "cell_type": "markdown",
   "metadata": {},
   "source": [
    "##### Attrition_xgb.ipynb"
   ]
  },
  {
   "cell_type": "markdown",
   "metadata": {},
   "source": [
    "### Project B"
   ]
  },
  {
   "cell_type": "markdown",
   "metadata": {},
   "source": [
    "##### santander-product-recommendation.ipynb"
   ]
  }
 ],
 "metadata": {
  "kernelspec": {
   "display_name": "Python 3",
   "language": "python",
   "name": "python3"
  },
  "language_info": {
   "codemirror_mode": {
    "name": "ipython",
    "version": 3
   },
   "file_extension": ".py",
   "mimetype": "text/x-python",
   "name": "python",
   "nbconvert_exporter": "python",
   "pygments_lexer": "ipython3",
   "version": "3.7.4"
  }
 },
 "nbformat": 4,
 "nbformat_minor": 4
}
